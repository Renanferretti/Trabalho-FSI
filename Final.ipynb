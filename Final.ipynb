{
  "nbformat": 4,
  "nbformat_minor": 0,
  "metadata": {
    "colab": {
      "name": "Final.ipynb",
      "provenance": [],
      "private_outputs": true
    },
    "kernelspec": {
      "name": "python3",
      "display_name": "Python 3"
    }
  },
  "cells": [
    {
      "cell_type": "markdown",
      "metadata": {
        "id": "Cw6mlkLOVrl6",
        "colab_type": "text"
      },
      "source": [
        "https://www.kaggle.com/danielgrijalvas/movies"
      ]
    },
    {
      "cell_type": "code",
      "metadata": {
        "id": "pGWmzi7ckIsJ",
        "colab_type": "code",
        "colab": {}
      },
      "source": [
        "%matplotlib inline"
      ],
      "execution_count": 0,
      "outputs": []
    },
    {
      "cell_type": "code",
      "metadata": {
        "id": "a_-hLV20jINt",
        "colab_type": "code",
        "colab": {}
      },
      "source": [
        "import matplotlib.pyplot as plt\n",
        "import pandas as pd\n",
        "import seaborn as sns\n",
        "import numpy as np"
      ],
      "execution_count": 0,
      "outputs": []
    },
    {
      "cell_type": "code",
      "metadata": {
        "id": "45dQKOsSWTQQ",
        "colab_type": "code",
        "colab": {}
      },
      "source": [
        "filmes = pd.read_csv(\"movies.csv\", encoding='latin-1')"
      ],
      "execution_count": 0,
      "outputs": []
    },
    {
      "cell_type": "code",
      "metadata": {
        "id": "aXj-72ZczrZ1",
        "colab_type": "code",
        "colab": {}
      },
      "source": [
        "#apagando dados nulos\n",
        "filmes.dropna(how='all')"
      ],
      "execution_count": 0,
      "outputs": []
    },
    {
      "cell_type": "code",
      "metadata": {
        "id": "iy0VNIMEW8wR",
        "colab_type": "code",
        "colab": {}
      },
      "source": [
        "filmes.head(10)"
      ],
      "execution_count": 0,
      "outputs": []
    },
    {
      "cell_type": "code",
      "metadata": {
        "id": "o71z0eWxGMrX",
        "colab_type": "code",
        "colab": {}
      },
      "source": [
        "filmes.country.describe()"
      ],
      "execution_count": 0,
      "outputs": []
    },
    {
      "cell_type": "code",
      "metadata": {
        "id": "g63514imXLSR",
        "colab_type": "code",
        "colab": {}
      },
      "source": [
        "filmes.score.value_counts()"
      ],
      "execution_count": 0,
      "outputs": []
    },
    {
      "cell_type": "code",
      "metadata": {
        "id": "wUu8xcBBYH_h",
        "colab_type": "code",
        "colab": {}
      },
      "source": [
        "(filmes.genre.value_counts() / len(filmes)).plot.bar()"
      ],
      "execution_count": 0,
      "outputs": []
    },
    {
      "cell_type": "code",
      "metadata": {
        "id": "zErpQUI0YLBh",
        "colab_type": "code",
        "colab": {}
      },
      "source": [
        "filmes.runtime.plot.hist()"
      ],
      "execution_count": 0,
      "outputs": []
    },
    {
      "cell_type": "markdown",
      "metadata": {
        "id": "gsgFeyps1hz0",
        "colab_type": "text"
      },
      "source": [
        "\n",
        "\n",
        "> Comédia era o gênero mais visto antes de 2000\n",
        "\n",
        "\n",
        "\n",
        "\n"
      ]
    },
    {
      "cell_type": "code",
      "metadata": {
        "id": "fXlFvQBY1d-a",
        "colab_type": "code",
        "colab": {}
      },
      "source": [
        "sns.countplot(y = \"genre\", data = filmes[filmes.year < 2000])"
      ],
      "execution_count": 0,
      "outputs": []
    },
    {
      "cell_type": "markdown",
      "metadata": {
        "id": "BIf0RjQoZNzP",
        "colab_type": "text"
      },
      "source": [
        "\n",
        "\n",
        "> Comédia continua sendo o gênero mais visto\n",
        "\n",
        "\n",
        "\n"
      ]
    },
    {
      "cell_type": "code",
      "metadata": {
        "id": "DKP9cqBWZIZN",
        "colab_type": "code",
        "colab": {}
      },
      "source": [
        "sns.countplot(y = \"genre\", data = filmes[filmes.year > 2000])"
      ],
      "execution_count": 0,
      "outputs": []
    },
    {
      "cell_type": "markdown",
      "metadata": {
        "id": "S94B3Jeh3CdQ",
        "colab_type": "text"
      },
      "source": [
        "\n",
        "\n",
        "> O tempo de duração não se alterou muito\n",
        "\n"
      ]
    },
    {
      "cell_type": "code",
      "metadata": {
        "id": "Ydc2BcrF25vJ",
        "colab_type": "code",
        "colab": {}
      },
      "source": [
        "filmes.plot.scatter(x = 'year', y = 'runtime')"
      ],
      "execution_count": 0,
      "outputs": []
    },
    {
      "cell_type": "markdown",
      "metadata": {
        "id": "n3_TNEeny3eX",
        "colab_type": "text"
      },
      "source": [
        "\n",
        "\n",
        "> Com o passar dos anos o orçamento foi aumentando\n",
        "\n"
      ]
    },
    {
      "cell_type": "code",
      "metadata": {
        "id": "tOt4V1VMyLQL",
        "colab_type": "code",
        "colab": {}
      },
      "source": [
        "filmes[filmes.score > filmes.score.median()].plot.scatter(x='year', y ='budget')"
      ],
      "execution_count": 0,
      "outputs": []
    },
    {
      "cell_type": "markdown",
      "metadata": {
        "id": "F6Z9K6nDacBN",
        "colab_type": "text"
      },
      "source": [
        "**Gênero dos filmes com lucro acima da média**\n",
        "\n",
        "1. Comédia\n",
        "2. Ação (ultrapassou o gênero comédia nos últimos 6 anos)"
      ]
    },
    {
      "cell_type": "code",
      "metadata": {
        "id": "rBJgQiOQaD9H",
        "colab_type": "code",
        "colab": {}
      },
      "source": [
        "sns.factorplot(y='genre', col='year', kind='count', data = filmes[filmes.gross > filmes.gross.median()])"
      ],
      "execution_count": 0,
      "outputs": []
    },
    {
      "cell_type": "markdown",
      "metadata": {
        "id": "hPsfwFYU0XXm",
        "colab_type": "text"
      },
      "source": [
        "\n",
        "\n",
        "> Grande parte dos filmes com nota acima da média são produzidos nos EUA\n",
        "\n"
      ]
    },
    {
      "cell_type": "code",
      "metadata": {
        "id": "ep-gPqapzS4P",
        "colab_type": "code",
        "colab": {}
      },
      "source": [
        "sns.factorplot(y = 'genre', col = 'country', kind = 'count', data = filmes[filmes.score > filmes.score.median()])"
      ],
      "execution_count": 0,
      "outputs": []
    },
    {
      "cell_type": "markdown",
      "metadata": {
        "id": "2zndMZW9bnhj",
        "colab_type": "text"
      },
      "source": [
        "---\n",
        "\n",
        "---\n"
      ]
    },
    {
      "cell_type": "markdown",
      "metadata": {
        "id": "eZGxlqWLc2PQ",
        "colab_type": "text"
      },
      "source": [
        "##Predição"
      ]
    },
    {
      "cell_type": "code",
      "metadata": {
        "id": "hpnVTuGpb1N9",
        "colab_type": "code",
        "colab": {}
      },
      "source": [
        "filmes.budget = filmes.budget > filmes.budget.mean()\n",
        "filmes['pais'] = np.where(filmes['country'] == 'USA', '0', '1')"
      ],
      "execution_count": 0,
      "outputs": []
    },
    {
      "cell_type": "markdown",
      "metadata": {
        "id": "Uk3juFfcbV9_",
        "colab_type": "text"
      },
      "source": [
        " **Decision Tree**\n",
        "\n",
        "---\n",
        "\n"
      ]
    },
    {
      "cell_type": "code",
      "metadata": {
        "id": "Pu8Xzifqbwwr",
        "colab_type": "code",
        "colab": {}
      },
      "source": [
        "from sklearn.tree import DecisionTreeClassifier\n",
        "model_dt = DecisionTreeClassifier()"
      ],
      "execution_count": 0,
      "outputs": []
    },
    {
      "cell_type": "code",
      "metadata": {
        "id": "YJ_4Q4nndAZi",
        "colab_type": "code",
        "colab": {}
      },
      "source": [
        "#Feature matrix\n",
        "X_movies = filmes.loc[: ,  [\"budget\", \"gross\"] ]"
      ],
      "execution_count": 0,
      "outputs": []
    },
    {
      "cell_type": "code",
      "metadata": {
        "id": "kuSwbhWmdPCh",
        "colab_type": "code",
        "colab": {}
      },
      "source": [
        "#Target array\n",
        "y_movies = filmes.pais"
      ],
      "execution_count": 0,
      "outputs": []
    },
    {
      "cell_type": "code",
      "metadata": {
        "id": "5uaKhKX-f34D",
        "colab_type": "code",
        "colab": {}
      },
      "source": [
        "#separação\n",
        "from sklearn.model_selection import  train_test_split\n",
        "Xtrain, Xtest, ytrain, ytest = train_test_split(X_movies, y_movies, random_state=42)"
      ],
      "execution_count": 0,
      "outputs": []
    },
    {
      "cell_type": "code",
      "metadata": {
        "id": "niQuByk_gxkK",
        "colab_type": "code",
        "colab": {}
      },
      "source": [
        "model_dt.fit(Xtrain, ytrain)"
      ],
      "execution_count": 0,
      "outputs": []
    },
    {
      "cell_type": "code",
      "metadata": {
        "id": "7Se4WM3a0lMs",
        "colab_type": "code",
        "colab": {}
      },
      "source": [
        "model2_dt = model_dt.predict(Xtest)"
      ],
      "execution_count": 0,
      "outputs": []
    },
    {
      "cell_type": "markdown",
      "metadata": {
        "id": "ezDFPwJ9k-Dd",
        "colab_type": "text"
      },
      "source": [
        "*Acurácia*"
      ]
    },
    {
      "cell_type": "code",
      "metadata": {
        "id": "Oifjk-Cq4PDy",
        "colab_type": "code",
        "colab": {}
      },
      "source": [
        "from sklearn.metrics import accuracy_score\n",
        "accuracy_score(ytest, model2_dt)"
      ],
      "execution_count": 0,
      "outputs": []
    },
    {
      "cell_type": "markdown",
      "metadata": {
        "id": "oexxL-golisq",
        "colab_type": "text"
      },
      "source": [
        "\n",
        "\n",
        "**Naive Bayes**\n",
        "\n",
        "---"
      ]
    },
    {
      "cell_type": "code",
      "metadata": {
        "id": "mRSZckTU2fn-",
        "colab_type": "code",
        "colab": {}
      },
      "source": [
        "from sklearn.naive_bayes import GaussianNB \n",
        "model_nb = GaussianNB()"
      ],
      "execution_count": 0,
      "outputs": []
    },
    {
      "cell_type": "code",
      "metadata": {
        "id": "LxgrmDYjt5Wa",
        "colab_type": "code",
        "colab": {}
      },
      "source": [
        "#o passo 3 já foi feito anteriormente"
      ],
      "execution_count": 0,
      "outputs": []
    },
    {
      "cell_type": "code",
      "metadata": {
        "id": "08x7oijguFxs",
        "colab_type": "code",
        "colab": {}
      },
      "source": [
        "model_nb.fit(Xtrain, ytrain)"
      ],
      "execution_count": 0,
      "outputs": []
    },
    {
      "cell_type": "code",
      "metadata": {
        "id": "TSLSuT2NuMa0",
        "colab_type": "code",
        "colab": {}
      },
      "source": [
        "model2_nb = model_nb.predict(Xtest)"
      ],
      "execution_count": 0,
      "outputs": []
    },
    {
      "cell_type": "markdown",
      "metadata": {
        "id": "d8Xex7Qo56xX",
        "colab_type": "text"
      },
      "source": [
        "*Acurácia*"
      ]
    },
    {
      "cell_type": "code",
      "metadata": {
        "id": "n7WIDUiyuPQY",
        "colab_type": "code",
        "colab": {}
      },
      "source": [
        "accuracy_score(ytest, model2_nb)"
      ],
      "execution_count": 0,
      "outputs": []
    },
    {
      "cell_type": "markdown",
      "metadata": {
        "id": "Jjs4ZhNAu6aI",
        "colab_type": "text"
      },
      "source": [
        "**Cross Validation**\n",
        "\n",
        "---"
      ]
    },
    {
      "cell_type": "code",
      "metadata": {
        "id": "bTILMoUDvCmf",
        "colab_type": "code",
        "colab": {}
      },
      "source": [
        "from sklearn.model_selection import cross_val_score\n",
        "from sklearn.neighbors import  KNeighborsClassifier\n",
        "\n",
        "#define quantos vizinhos de cada lado quer verificar\n",
        "model_cv = KNeighborsClassifier(n_neighbors = 1)\n",
        "cross_val_score(model_cv, X_movies, y_movies, cv = 5)"
      ],
      "execution_count": 0,
      "outputs": []
    },
    {
      "cell_type": "markdown",
      "metadata": {
        "id": "HpfDTHiQvwV1",
        "colab_type": "text"
      },
      "source": [
        "**Random Forest**\n",
        "\n",
        "---"
      ]
    },
    {
      "cell_type": "code",
      "metadata": {
        "id": "mlyXnCp4vt65",
        "colab_type": "code",
        "colab": {}
      },
      "source": [
        "from sklearn.ensemble import RandomForestClassifier\n",
        "model_rf = RandomForestClassifier()\n",
        "model_rf.fit(Xtrain, ytrain)\n",
        "model2_rf = model_rf.predict(Xtest)"
      ],
      "execution_count": 0,
      "outputs": []
    },
    {
      "cell_type": "markdown",
      "metadata": {
        "id": "dICMrqqewnzB",
        "colab_type": "text"
      },
      "source": [
        "*Acurácia*"
      ]
    },
    {
      "cell_type": "code",
      "metadata": {
        "id": "k5DHfAyewpWT",
        "colab_type": "code",
        "colab": {}
      },
      "source": [
        "accuracy_score(ytest, model2_rf)"
      ],
      "execution_count": 0,
      "outputs": []
    },
    {
      "cell_type": "markdown",
      "metadata": {
        "id": "J6DWu5FKoAdz",
        "colab_type": "text"
      },
      "source": [
        "---\n",
        "\n",
        "---"
      ]
    },
    {
      "cell_type": "markdown",
      "metadata": {
        "id": "8LVaV5grxkks",
        "colab_type": "text"
      },
      "source": [
        "# Matriz de Confusão"
      ]
    },
    {
      "cell_type": "code",
      "metadata": {
        "id": "4wTrMNiR0i9_",
        "colab_type": "code",
        "colab": {}
      },
      "source": [
        "from sklearn.metrics import confusion_matrix\n",
        "\n",
        "matriz_dt = confusion_matrix(ytest, model2_dt)\n",
        "sns.heatmap(matriz_dt, square=True, annot=True)\n",
        "plt.xlabel('Valores Preditos')\n",
        "plt.ylabel('Valores Reais')"
      ],
      "execution_count": 0,
      "outputs": []
    },
    {
      "cell_type": "markdown",
      "metadata": {
        "id": "256uKpM5xrim",
        "colab_type": "text"
      },
      "source": [
        "**Decision Tree**\n",
        "\n",
        "---"
      ]
    },
    {
      "cell_type": "code",
      "metadata": {
        "id": "zP9xQxh7tYAa",
        "colab_type": "code",
        "colab": {}
      },
      "source": [
        "matriz_dt = confusion_matrix(ytest, model2_dt)\n",
        "sns.heatmap(matriz_dt, square=True, annot=True)\n",
        "plt.xlabel('Valores Preditos')\n",
        "plt.ylabel('Valores Reais')"
      ],
      "execution_count": 0,
      "outputs": []
    },
    {
      "cell_type": "markdown",
      "metadata": {
        "id": "ZZsGL_YeyAYf",
        "colab_type": "text"
      },
      "source": [
        "**Naive Bayes**\n",
        "\n",
        "---"
      ]
    },
    {
      "cell_type": "code",
      "metadata": {
        "id": "SxHUabPGyHZf",
        "colab_type": "code",
        "colab": {}
      },
      "source": [
        "matriz_nb = confusion_matrix(ytest, model2_nb)\n",
        "sns.heatmap(matriz_nb, square=True, annot=True)\n",
        "plt.xlabel('Valores Preditos')\n",
        "plt.ylabel('Valores Reais')"
      ],
      "execution_count": 0,
      "outputs": []
    },
    {
      "cell_type": "markdown",
      "metadata": {
        "id": "-d9ns9e0yccx",
        "colab_type": "text"
      },
      "source": [
        "**Random Forest**\n",
        "\n",
        "---"
      ]
    },
    {
      "cell_type": "code",
      "metadata": {
        "id": "kL4oayhJyjHJ",
        "colab_type": "code",
        "colab": {}
      },
      "source": [
        "matriz_rf = confusion_matrix (ytest, model2_rf)\n",
        "sns.heatmap(matriz_rf, square=True, annot=True)\n",
        "plt.xlabel('Valores Preditos')\n",
        "plt.ylabel('Valores Reais')"
      ],
      "execution_count": 0,
      "outputs": []
    }
  ]
}