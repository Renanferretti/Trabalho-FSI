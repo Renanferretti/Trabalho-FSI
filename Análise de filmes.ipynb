{
  "nbformat": 4,
  "nbformat_minor": 0,
  "metadata": {
    "colab": {
      "name": "2 - Análise de filmes.ipynb",
      "provenance": [],
      "collapsed_sections": []
    },
    "kernelspec": {
      "name": "python3",
      "display_name": "Python 3"
    }
  },
  "cells": [
    {
      "cell_type": "code",
      "metadata": {
        "id": "pGWmzi7ckIsJ",
        "colab_type": "code",
        "colab": {}
      },
      "source": [
        "%matplotlib inline"
      ],
      "execution_count": 0,
      "outputs": []
    },
    {
      "cell_type": "code",
      "metadata": {
        "id": "a_-hLV20jINt",
        "colab_type": "code",
        "colab": {}
      },
      "source": [
        "import pandas as pd"
      ],
      "execution_count": 0,
      "outputs": []
    },
    {
      "cell_type": "code",
      "metadata": {
        "id": "thgtq8k0kBWW",
        "colab_type": "code",
        "colab": {}
      },
      "source": [
        "import matplotlib as plt"
      ],
      "execution_count": 0,
      "outputs": []
    },
    {
      "cell_type": "code",
      "metadata": {
        "id": "fiXbxXRdmQIe",
        "colab_type": "code",
        "colab": {}
      },
      "source": [
        "filmes = pd.read_csv(\"movies.csv\", encoding='latin-1')"
      ],
      "execution_count": 0,
      "outputs": []
    },
    {
      "cell_type": "code",
      "metadata": {
        "id": "Nv1UhcshmY2P",
        "colab_type": "code",
        "outputId": "c70d690a-52b1-40b9-86ff-4290e999f7a6",
        "colab": {
          "base_uri": "https://localhost:8080/",
          "height": 284
        }
      },
      "source": [
        "filmes.describe()"
      ],
      "execution_count": 0,
      "outputs": [
        {
          "output_type": "execute_result",
          "data": {
            "text/html": [
              "<div>\n",
              "<style scoped>\n",
              "    .dataframe tbody tr th:only-of-type {\n",
              "        vertical-align: middle;\n",
              "    }\n",
              "\n",
              "    .dataframe tbody tr th {\n",
              "        vertical-align: top;\n",
              "    }\n",
              "\n",
              "    .dataframe thead th {\n",
              "        text-align: right;\n",
              "    }\n",
              "</style>\n",
              "<table border=\"1\" class=\"dataframe\">\n",
              "  <thead>\n",
              "    <tr style=\"text-align: right;\">\n",
              "      <th></th>\n",
              "      <th>budget</th>\n",
              "      <th>gross</th>\n",
              "      <th>runtime</th>\n",
              "      <th>score</th>\n",
              "      <th>votes</th>\n",
              "      <th>year</th>\n",
              "    </tr>\n",
              "  </thead>\n",
              "  <tbody>\n",
              "    <tr>\n",
              "      <th>count</th>\n",
              "      <td>6.820000e+03</td>\n",
              "      <td>6.820000e+03</td>\n",
              "      <td>6820.00000</td>\n",
              "      <td>6820.000000</td>\n",
              "      <td>6.820000e+03</td>\n",
              "      <td>6820.000000</td>\n",
              "    </tr>\n",
              "    <tr>\n",
              "      <th>mean</th>\n",
              "      <td>2.458113e+07</td>\n",
              "      <td>3.349783e+07</td>\n",
              "      <td>106.55132</td>\n",
              "      <td>6.374897</td>\n",
              "      <td>7.121952e+04</td>\n",
              "      <td>2001.000293</td>\n",
              "    </tr>\n",
              "    <tr>\n",
              "      <th>std</th>\n",
              "      <td>3.702254e+07</td>\n",
              "      <td>5.819760e+07</td>\n",
              "      <td>18.02818</td>\n",
              "      <td>1.003142</td>\n",
              "      <td>1.305176e+05</td>\n",
              "      <td>8.944501</td>\n",
              "    </tr>\n",
              "    <tr>\n",
              "      <th>min</th>\n",
              "      <td>0.000000e+00</td>\n",
              "      <td>7.000000e+01</td>\n",
              "      <td>50.00000</td>\n",
              "      <td>1.500000</td>\n",
              "      <td>2.700000e+01</td>\n",
              "      <td>1986.000000</td>\n",
              "    </tr>\n",
              "    <tr>\n",
              "      <th>25%</th>\n",
              "      <td>0.000000e+00</td>\n",
              "      <td>1.515839e+06</td>\n",
              "      <td>95.00000</td>\n",
              "      <td>5.800000</td>\n",
              "      <td>7.665250e+03</td>\n",
              "      <td>1993.000000</td>\n",
              "    </tr>\n",
              "    <tr>\n",
              "      <th>50%</th>\n",
              "      <td>1.100000e+07</td>\n",
              "      <td>1.213568e+07</td>\n",
              "      <td>102.00000</td>\n",
              "      <td>6.400000</td>\n",
              "      <td>2.589250e+04</td>\n",
              "      <td>2001.000000</td>\n",
              "    </tr>\n",
              "    <tr>\n",
              "      <th>75%</th>\n",
              "      <td>3.200000e+07</td>\n",
              "      <td>4.006534e+07</td>\n",
              "      <td>115.00000</td>\n",
              "      <td>7.100000</td>\n",
              "      <td>7.581225e+04</td>\n",
              "      <td>2009.000000</td>\n",
              "    </tr>\n",
              "    <tr>\n",
              "      <th>max</th>\n",
              "      <td>3.000000e+08</td>\n",
              "      <td>9.366622e+08</td>\n",
              "      <td>366.00000</td>\n",
              "      <td>9.300000</td>\n",
              "      <td>1.861666e+06</td>\n",
              "      <td>2016.000000</td>\n",
              "    </tr>\n",
              "  </tbody>\n",
              "</table>\n",
              "</div>"
            ],
            "text/plain": [
              "             budget         gross  ...         votes         year\n",
              "count  6.820000e+03  6.820000e+03  ...  6.820000e+03  6820.000000\n",
              "mean   2.458113e+07  3.349783e+07  ...  7.121952e+04  2001.000293\n",
              "std    3.702254e+07  5.819760e+07  ...  1.305176e+05     8.944501\n",
              "min    0.000000e+00  7.000000e+01  ...  2.700000e+01  1986.000000\n",
              "25%    0.000000e+00  1.515839e+06  ...  7.665250e+03  1993.000000\n",
              "50%    1.100000e+07  1.213568e+07  ...  2.589250e+04  2001.000000\n",
              "75%    3.200000e+07  4.006534e+07  ...  7.581225e+04  2009.000000\n",
              "max    3.000000e+08  9.366622e+08  ...  1.861666e+06  2016.000000\n",
              "\n",
              "[8 rows x 6 columns]"
            ]
          },
          "metadata": {
            "tags": []
          },
          "execution_count": 6
        }
      ]
    },
    {
      "cell_type": "code",
      "metadata": {
        "id": "d-vGjYM2ErnU",
        "colab_type": "code",
        "outputId": "01265efd-93cd-4e0d-9695-f9c3a3fdac8e",
        "colab": {
          "base_uri": "https://localhost:8080/",
          "height": 511
        }
      },
      "source": [
        "filmes.head(10)"
      ],
      "execution_count": 0,
      "outputs": [
        {
          "output_type": "execute_result",
          "data": {
            "text/html": [
              "<div>\n",
              "<style scoped>\n",
              "    .dataframe tbody tr th:only-of-type {\n",
              "        vertical-align: middle;\n",
              "    }\n",
              "\n",
              "    .dataframe tbody tr th {\n",
              "        vertical-align: top;\n",
              "    }\n",
              "\n",
              "    .dataframe thead th {\n",
              "        text-align: right;\n",
              "    }\n",
              "</style>\n",
              "<table border=\"1\" class=\"dataframe\">\n",
              "  <thead>\n",
              "    <tr style=\"text-align: right;\">\n",
              "      <th></th>\n",
              "      <th>budget</th>\n",
              "      <th>company</th>\n",
              "      <th>country</th>\n",
              "      <th>director</th>\n",
              "      <th>genre</th>\n",
              "      <th>gross</th>\n",
              "      <th>name</th>\n",
              "      <th>rating</th>\n",
              "      <th>released</th>\n",
              "      <th>runtime</th>\n",
              "      <th>score</th>\n",
              "      <th>star</th>\n",
              "      <th>votes</th>\n",
              "      <th>writer</th>\n",
              "      <th>year</th>\n",
              "    </tr>\n",
              "  </thead>\n",
              "  <tbody>\n",
              "    <tr>\n",
              "      <th>0</th>\n",
              "      <td>8000000.0</td>\n",
              "      <td>Columbia Pictures Corporation</td>\n",
              "      <td>USA</td>\n",
              "      <td>Rob Reiner</td>\n",
              "      <td>Adventure</td>\n",
              "      <td>52287414.0</td>\n",
              "      <td>Stand by Me</td>\n",
              "      <td>R</td>\n",
              "      <td>1986-08-22</td>\n",
              "      <td>89</td>\n",
              "      <td>8.1</td>\n",
              "      <td>Wil Wheaton</td>\n",
              "      <td>299174</td>\n",
              "      <td>Stephen King</td>\n",
              "      <td>1986</td>\n",
              "    </tr>\n",
              "    <tr>\n",
              "      <th>1</th>\n",
              "      <td>6000000.0</td>\n",
              "      <td>Paramount Pictures</td>\n",
              "      <td>USA</td>\n",
              "      <td>John Hughes</td>\n",
              "      <td>Comedy</td>\n",
              "      <td>70136369.0</td>\n",
              "      <td>Ferris Bueller's Day Off</td>\n",
              "      <td>PG-13</td>\n",
              "      <td>1986-06-11</td>\n",
              "      <td>103</td>\n",
              "      <td>7.8</td>\n",
              "      <td>Matthew Broderick</td>\n",
              "      <td>264740</td>\n",
              "      <td>John Hughes</td>\n",
              "      <td>1986</td>\n",
              "    </tr>\n",
              "    <tr>\n",
              "      <th>2</th>\n",
              "      <td>15000000.0</td>\n",
              "      <td>Paramount Pictures</td>\n",
              "      <td>USA</td>\n",
              "      <td>Tony Scott</td>\n",
              "      <td>Action</td>\n",
              "      <td>179800601.0</td>\n",
              "      <td>Top Gun</td>\n",
              "      <td>PG</td>\n",
              "      <td>1986-05-16</td>\n",
              "      <td>110</td>\n",
              "      <td>6.9</td>\n",
              "      <td>Tom Cruise</td>\n",
              "      <td>236909</td>\n",
              "      <td>Jim Cash</td>\n",
              "      <td>1986</td>\n",
              "    </tr>\n",
              "    <tr>\n",
              "      <th>3</th>\n",
              "      <td>18500000.0</td>\n",
              "      <td>Twentieth Century Fox Film Corporation</td>\n",
              "      <td>USA</td>\n",
              "      <td>James Cameron</td>\n",
              "      <td>Action</td>\n",
              "      <td>85160248.0</td>\n",
              "      <td>Aliens</td>\n",
              "      <td>R</td>\n",
              "      <td>1986-07-18</td>\n",
              "      <td>137</td>\n",
              "      <td>8.4</td>\n",
              "      <td>Sigourney Weaver</td>\n",
              "      <td>540152</td>\n",
              "      <td>James Cameron</td>\n",
              "      <td>1986</td>\n",
              "    </tr>\n",
              "    <tr>\n",
              "      <th>4</th>\n",
              "      <td>9000000.0</td>\n",
              "      <td>Walt Disney Pictures</td>\n",
              "      <td>USA</td>\n",
              "      <td>Randal Kleiser</td>\n",
              "      <td>Adventure</td>\n",
              "      <td>18564613.0</td>\n",
              "      <td>Flight of the Navigator</td>\n",
              "      <td>PG</td>\n",
              "      <td>1986-08-01</td>\n",
              "      <td>90</td>\n",
              "      <td>6.9</td>\n",
              "      <td>Joey Cramer</td>\n",
              "      <td>36636</td>\n",
              "      <td>Mark H. Baker</td>\n",
              "      <td>1986</td>\n",
              "    </tr>\n",
              "    <tr>\n",
              "      <th>5</th>\n",
              "      <td>6000000.0</td>\n",
              "      <td>Hemdale</td>\n",
              "      <td>UK</td>\n",
              "      <td>Oliver Stone</td>\n",
              "      <td>Drama</td>\n",
              "      <td>138530565.0</td>\n",
              "      <td>Platoon</td>\n",
              "      <td>R</td>\n",
              "      <td>1987-02-06</td>\n",
              "      <td>120</td>\n",
              "      <td>8.1</td>\n",
              "      <td>Charlie Sheen</td>\n",
              "      <td>317585</td>\n",
              "      <td>Oliver Stone</td>\n",
              "      <td>1986</td>\n",
              "    </tr>\n",
              "    <tr>\n",
              "      <th>6</th>\n",
              "      <td>25000000.0</td>\n",
              "      <td>Henson Associates (HA)</td>\n",
              "      <td>UK</td>\n",
              "      <td>Jim Henson</td>\n",
              "      <td>Adventure</td>\n",
              "      <td>12729917.0</td>\n",
              "      <td>Labyrinth</td>\n",
              "      <td>PG</td>\n",
              "      <td>1986-06-27</td>\n",
              "      <td>101</td>\n",
              "      <td>7.4</td>\n",
              "      <td>David Bowie</td>\n",
              "      <td>102879</td>\n",
              "      <td>Dennis Lee</td>\n",
              "      <td>1986</td>\n",
              "    </tr>\n",
              "    <tr>\n",
              "      <th>7</th>\n",
              "      <td>6000000.0</td>\n",
              "      <td>De Laurentiis Entertainment Group (DEG)</td>\n",
              "      <td>USA</td>\n",
              "      <td>David Lynch</td>\n",
              "      <td>Drama</td>\n",
              "      <td>8551228.0</td>\n",
              "      <td>Blue Velvet</td>\n",
              "      <td>R</td>\n",
              "      <td>1986-10-23</td>\n",
              "      <td>120</td>\n",
              "      <td>7.8</td>\n",
              "      <td>Isabella Rossellini</td>\n",
              "      <td>146768</td>\n",
              "      <td>David Lynch</td>\n",
              "      <td>1986</td>\n",
              "    </tr>\n",
              "    <tr>\n",
              "      <th>8</th>\n",
              "      <td>9000000.0</td>\n",
              "      <td>Paramount Pictures</td>\n",
              "      <td>USA</td>\n",
              "      <td>Howard Deutch</td>\n",
              "      <td>Comedy</td>\n",
              "      <td>40471663.0</td>\n",
              "      <td>Pretty in Pink</td>\n",
              "      <td>PG-13</td>\n",
              "      <td>1986-02-28</td>\n",
              "      <td>96</td>\n",
              "      <td>6.8</td>\n",
              "      <td>Molly Ringwald</td>\n",
              "      <td>60565</td>\n",
              "      <td>John Hughes</td>\n",
              "      <td>1986</td>\n",
              "    </tr>\n",
              "    <tr>\n",
              "      <th>9</th>\n",
              "      <td>15000000.0</td>\n",
              "      <td>SLM Production Group</td>\n",
              "      <td>USA</td>\n",
              "      <td>David Cronenberg</td>\n",
              "      <td>Drama</td>\n",
              "      <td>40456565.0</td>\n",
              "      <td>The Fly</td>\n",
              "      <td>R</td>\n",
              "      <td>1986-08-15</td>\n",
              "      <td>96</td>\n",
              "      <td>7.5</td>\n",
              "      <td>Jeff Goldblum</td>\n",
              "      <td>129698</td>\n",
              "      <td>George Langelaan</td>\n",
              "      <td>1986</td>\n",
              "    </tr>\n",
              "  </tbody>\n",
              "</table>\n",
              "</div>"
            ],
            "text/plain": [
              "       budget                                  company  ...            writer  year\n",
              "0   8000000.0            Columbia Pictures Corporation  ...      Stephen King  1986\n",
              "1   6000000.0                       Paramount Pictures  ...       John Hughes  1986\n",
              "2  15000000.0                       Paramount Pictures  ...          Jim Cash  1986\n",
              "3  18500000.0   Twentieth Century Fox Film Corporation  ...     James Cameron  1986\n",
              "4   9000000.0                     Walt Disney Pictures  ...     Mark H. Baker  1986\n",
              "5   6000000.0                                  Hemdale  ...      Oliver Stone  1986\n",
              "6  25000000.0                   Henson Associates (HA)  ...        Dennis Lee  1986\n",
              "7   6000000.0  De Laurentiis Entertainment Group (DEG)  ...       David Lynch  1986\n",
              "8   9000000.0                       Paramount Pictures  ...       John Hughes  1986\n",
              "9  15000000.0                     SLM Production Group  ...  George Langelaan  1986\n",
              "\n",
              "[10 rows x 15 columns]"
            ]
          },
          "metadata": {
            "tags": []
          },
          "execution_count": 7
        }
      ]
    },
    {
      "cell_type": "code",
      "metadata": {
        "id": "dRacW2gaE4YL",
        "colab_type": "code",
        "outputId": "abfd9234-bad2-46e5-a2dc-6b1aaa761948",
        "colab": {
          "base_uri": "https://localhost:8080/",
          "height": 218
        }
      },
      "source": [
        "filmes.score.value_counts()"
      ],
      "execution_count": 0,
      "outputs": [
        {
          "output_type": "execute_result",
          "data": {
            "text/plain": [
              "6.7    304\n",
              "6.5    284\n",
              "6.3    284\n",
              "6.4    283\n",
              "6.6    273\n",
              "      ... \n",
              "9.0      1\n",
              "1.5      1\n",
              "1.6      1\n",
              "2.1      1\n",
              "2.5      1\n",
              "Name: score, Length: 75, dtype: int64"
            ]
          },
          "metadata": {
            "tags": []
          },
          "execution_count": 10
        }
      ]
    },
    {
      "cell_type": "code",
      "metadata": {
        "id": "rd4k6JbiFb2d",
        "colab_type": "code",
        "outputId": "fe7ed50a-a628-4cd4-cc01-6525e7a9288d",
        "colab": {
          "base_uri": "https://localhost:8080/",
          "height": 991
        }
      },
      "source": [
        "filmes.country.value_counts()"
      ],
      "execution_count": 0,
      "outputs": [
        {
          "output_type": "execute_result",
          "data": {
            "text/plain": [
              "USA                               4872\n",
              "UK                                 698\n",
              "France                             283\n",
              "Canada                             150\n",
              "Germany                            134\n",
              "Australia                           82\n",
              "Japan                               68\n",
              "Spain                               56\n",
              "Italy                               51\n",
              "Ireland                             44\n",
              "Hong Kong                           39\n",
              "India                               39\n",
              "Denmark                             33\n",
              "China                               24\n",
              "South Korea                         20\n",
              "New Zealand                         18\n",
              "Belgium                             18\n",
              "Sweden                              18\n",
              "Mexico                              15\n",
              "Argentina                           13\n",
              "Iran                                12\n",
              "Netherlands                         12\n",
              "Russia                              10\n",
              "South Africa                         9\n",
              "Czech Republic                       8\n",
              "Norway                               8\n",
              "Taiwan                               8\n",
              "Hungary                              7\n",
              "Brazil                               6\n",
              "Austria                              6\n",
              "Switzerland                          6\n",
              "Israel                               5\n",
              "Romania                              5\n",
              "Greece                               5\n",
              "Chile                                4\n",
              "West Germany                         4\n",
              "Finland                              3\n",
              "Thailand                             3\n",
              "Indonesia                            2\n",
              "Portugal                             2\n",
              "Peru                                 2\n",
              "Colombia                             2\n",
              "Poland                               2\n",
              "Jamaica                              1\n",
              "Bahamas                              1\n",
              "Saudi Arabia                         1\n",
              "Republic of Macedonia                1\n",
              "Palestine                            1\n",
              "Cuba                                 1\n",
              "Iceland                              1\n",
              "Aruba                                1\n",
              "Ukraine                              1\n",
              "Federal Republic of Yugoslavia       1\n",
              "Malta                                1\n",
              "Panama                               1\n",
              "Kenya                                1\n",
              "Soviet Union                         1\n",
              "Name: country, dtype: int64"
            ]
          },
          "metadata": {
            "tags": []
          },
          "execution_count": 9
        }
      ]
    },
    {
      "cell_type": "code",
      "metadata": {
        "id": "ygA0JxLxFqPu",
        "colab_type": "code",
        "outputId": "10ff66bd-1343-4b8b-e8e4-b7c3bac5cee7",
        "colab": {
          "base_uri": "https://localhost:8080/",
          "height": 319
        }
      },
      "source": [
        "filmes.genre.value_counts()"
      ],
      "execution_count": 0,
      "outputs": [
        {
          "output_type": "execute_result",
          "data": {
            "text/plain": [
              "Comedy       2080\n",
              "Drama        1444\n",
              "Action       1331\n",
              "Crime         522\n",
              "Adventure     392\n",
              "Biography     359\n",
              "Animation     277\n",
              "Horror        277\n",
              "Mystery        38\n",
              "Fantasy        32\n",
              "Thriller       18\n",
              "Romance        15\n",
              "Family         14\n",
              "Sci-Fi         13\n",
              "Musical         4\n",
              "Western         2\n",
              "War             2\n",
              "Name: genre, dtype: int64"
            ]
          },
          "metadata": {
            "tags": []
          },
          "execution_count": 11
        }
      ]
    },
    {
      "cell_type": "code",
      "metadata": {
        "id": "mZLdMZoUF_3S",
        "colab_type": "code",
        "outputId": "80f13a29-6c41-4c30-b997-6f6550b05904",
        "colab": {
          "base_uri": "https://localhost:8080/",
          "height": 324
        }
      },
      "source": [
        "(filmes.genre.value_counts() / len(filmes)).plot.bar()"
      ],
      "execution_count": 0,
      "outputs": [
        {
          "output_type": "execute_result",
          "data": {
            "text/plain": [
              "<matplotlib.axes._subplots.AxesSubplot at 0x7f55bf34cf28>"
            ]
          },
          "metadata": {
            "tags": []
          },
          "execution_count": 12
        },
        {
          "output_type": "display_data",
          "data": {
            "image/png": "[encoded data removed]",
            "text/plain": [
              "<Figure size 432x288 with 1 Axes>"
            ]
          },
          "metadata": {
            "tags": []
          }
        }
      ]
    },
    {
      "cell_type": "code",
      "metadata": {
        "id": "3l4gRpfDG7IJ",
        "colab_type": "code",
        "outputId": "8c3d5ba7-145a-4adb-cbc1-996363fdc757",
        "colab": {
          "base_uri": "https://localhost:8080/",
          "height": 282
        }
      },
      "source": [
        "filmes.runtime.plot.hist()"
      ],
      "execution_count": 0,
      "outputs": [
        {
          "output_type": "execute_result",
          "data": {
            "text/plain": [
              "<matplotlib.axes._subplots.AxesSubplot at 0x7f55beb77080>"
            ]
          },
          "metadata": {
            "tags": []
          },
          "execution_count": 18
        },
        {
          "output_type": "display_data",
          "data": {
            "image/png": "[encoded data removed]",
            "text/plain": [
              "<Figure size 432x288 with 1 Axes>"
            ]
          },
          "metadata": {
            "tags": []
          }
        }
      ]
    },
    {
      "cell_type": "code",
      "metadata": {
        "id": "XRaFD35QIDNv",
        "colab_type": "code",
        "outputId": "d33c0ea1-b957-4b64-8ef2-8381cc67150a",
        "colab": {
          "base_uri": "https://localhost:8080/",
          "height": 282
        }
      },
      "source": [
        "filmes[filmes.runtime>110].runtime.plot.hist()"
      ],
      "execution_count": 0,
      "outputs": [
        {
          "output_type": "execute_result",
          "data": {
            "text/plain": [
              "<matplotlib.axes._subplots.AxesSubplot at 0x7f55be9d5f28>"
            ]
          },
          "metadata": {
            "tags": []
          },
          "execution_count": 27
        },
        {
          "output_type": "display_data",
          "data": {
            "image/png": "[encoded data removed]",
            "text/plain": [
              "<Figure size 432x288 with 1 Axes>"
            ]
          },
          "metadata": {
            "tags": []
          }
        }
      ]
    },
    {
      "cell_type": "code",
      "metadata": {
        "id": "KyWDcEPrIsDK",
        "colab_type": "code",
        "outputId": "48dafd8e-9d8b-4d7d-a545-8a6a6edb5976",
        "colab": {
          "base_uri": "https://localhost:8080/",
          "height": 307
        }
      },
      "source": [
        "filmes.plot.scatter(x='year', y='budget')"
      ],
      "execution_count": 0,
      "outputs": [
        {
          "output_type": "execute_result",
          "data": {
            "text/plain": [
              "<matplotlib.axes._subplots.AxesSubplot at 0x7f55bec3fa90>"
            ]
          },
          "metadata": {
            "tags": []
          },
          "execution_count": 28
        },
        {
          "output_type": "display_data",
          "data": {
            "image/png": "[encoded data removed]",
            "text/plain": [
              "<Figure size 432x288 with 1 Axes>"
            ]
          },
          "metadata": {
            "tags": []
          }
        }
      ]
    },
    {
      "cell_type": "code",
      "metadata": {
        "id": "bC2ejMCY8S-F",
        "colab_type": "code",
        "outputId": "719285f8-7935-47a7-d73d-c4ec050a1086",
        "colab": {
          "base_uri": "https://localhost:8080/",
          "height": 296
        }
      },
      "source": [
        "filmes.plot.scatter(x = 'year', y = 'runtime')"
      ],
      "execution_count": 0,
      "outputs": [
        {
          "output_type": "execute_result",
          "data": {
            "text/plain": [
              "<matplotlib.axes._subplots.AxesSubplot at 0x7f55be9db9b0>"
            ]
          },
          "metadata": {
            "tags": []
          },
          "execution_count": 30
        },
        {
          "output_type": "display_data",
          "data": {
            "image/png": "[encoded data removed]",
            "text/plain": [
              "<Figure size 432x288 with 1 Axes>"
            ]
          },
          "metadata": {
            "tags": []
          }
        }
      ]
    },
    {
      "cell_type": "code",
      "metadata": {
        "id": "CCT5RdhY_TH7",
        "colab_type": "code",
        "outputId": "32685ac5-d506-4606-ce91-46c0198a34f9",
        "colab": {
          "base_uri": "https://localhost:8080/",
          "height": 265
        }
      },
      "source": [
        "filmes.rating.value_counts().head(5).plot.pie()"
      ],
      "execution_count": 0,
      "outputs": [
        {
          "output_type": "execute_result",
          "data": {
            "text/plain": [
              "<matplotlib.axes._subplots.AxesSubplot at 0x7f55bba87ac8>"
            ]
          },
          "metadata": {
            "tags": []
          },
          "execution_count": 61
        },
        {
          "output_type": "display_data",
          "data": {
            "image/png": "[encoded data removed]",
            "text/plain": [
              "<Figure size 432x288 with 1 Axes>"
            ]
          },
          "metadata": {
            "tags": []
          }
        }
      ]
    },
    {
      "cell_type": "code",
      "metadata": {
        "id": "l38cPlGqJZZz",
        "colab_type": "code",
        "colab": {}
      },
      "source": [
        ""
      ],
      "execution_count": 0,
      "outputs": []
    }
  ]
}